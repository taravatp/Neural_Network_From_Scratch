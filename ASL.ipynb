{
  "cells": [
    {
      "cell_type": "markdown",
      "metadata": {
        "id": "C4Z7d75gxD6R"
      },
      "source": [
        "# Importing required packages"
      ]
    },
    {
      "cell_type": "code",
      "execution_count": 20,
      "metadata": {
        "id": "lSbqquSXxW22",
        "colab": {
          "base_uri": "https://localhost:8080/",
          "height": 0
        },
        "outputId": "8b7d925b-8e11-458a-bbf4-bdb6079dac14"
      },
      "outputs": [
        {
          "output_type": "stream",
          "name": "stdout",
          "text": [
            "Drive already mounted at /content/drive; to attempt to forcibly remount, call drive.mount(\"/content/drive\", force_remount=True).\n"
          ]
        }
      ],
      "source": [
        "from google.colab import drive\n",
        "drive.mount('/content/drive')"
      ]
    },
    {
      "cell_type": "code",
      "execution_count": 2,
      "metadata": {
        "id": "5dLesArXyaa3"
      },
      "outputs": [],
      "source": [
        "!cd /content/drive/MyDrive/ASL_classification"
      ]
    },
    {
      "cell_type": "code",
      "execution_count": 3,
      "metadata": {
        "id": "1atEEFrnQwQN"
      },
      "outputs": [],
      "source": [
        "import numpy as np\n",
        "import matplotlib.pyplot as plt\n",
        "%matplotlib inline"
      ]
    },
    {
      "cell_type": "markdown",
      "metadata": {
        "id": "ugaYVwT5ZQZW"
      },
      "source": [
        "# Preparing dataset"
      ]
    },
    {
      "cell_type": "code",
      "execution_count": 129,
      "metadata": {
        "id": "8AnexXE4ZUes"
      },
      "outputs": [],
      "source": [
        "data = np.load('/content/drive/MyDrive/ASL_classification/Data/X_10classes.npy') \n",
        "labels = np.load('/content/drive/MyDrive/ASL_classification/Data/y_10classes.npy')"
      ]
    },
    {
      "cell_type": "code",
      "execution_count": 130,
      "metadata": {
        "colab": {
          "base_uri": "https://localhost:8080/",
          "height": 0
        },
        "id": "L_Ob78feZcOj",
        "outputId": "4592f343-0c6d-469a-c4fa-fbe2def8aa14"
      },
      "outputs": [
        {
          "output_type": "stream",
          "name": "stdout",
          "text": [
            "dimensions of dataset: (20843, 42)\n",
            "dimensions of labels: (20843,)\n",
            "all the unique labels of dataset: [0 1 2 3 4 5 6 7 8 9]\n",
            "freq of each unique label [1896 2045 1933 2421 2019 2254 2503 1890 1943 1939]\n"
          ]
        }
      ],
      "source": [
        "print(\"dimensions of dataset:\",data.shape)\n",
        "print(\"dimensions of labels:\",labels.shape)\n",
        "\n",
        "values,counts = np.unique(labels, return_counts=True)\n",
        "print(\"all the unique labels of dataset:\",values)\n",
        "print(\"freq of each unique label\",counts)"
      ]
    },
    {
      "cell_type": "code",
      "execution_count": 131,
      "metadata": {
        "id": "DQY1mrRTqnj9"
      },
      "outputs": [],
      "source": [
        "#encoding to one-hot format\n",
        "one_hot_labels = np.zeros((labels.size,max(labels)+1)) \n",
        "for i in range(labels.shape[0]):\n",
        "  one_hot_labels[i,labels[i]] = 1"
      ]
    },
    {
      "cell_type": "code",
      "execution_count": 132,
      "metadata": {
        "id": "Tzt1v-zkdqKb"
      },
      "outputs": [],
      "source": [
        "#shuffle and split the dataset\n",
        "indices = np.random.permutation(data.shape[0])\n",
        "train_idx , valid_idx , test_idx = indices[0:int(len(data)*0.6)] , indices[int(len(data)*0.6):int(len(data)*0.8)], indices[int(len(data)*0.8):]\n",
        "train_data = data[train_idx,:]\n",
        "train_labels = one_hot_labels[train_idx,:]\n",
        "valid_data = data[valid_idx,:]\n",
        "valid_labels = one_hot_labels[valid_idx,:]\n",
        "test_data = data[test_idx,:]\n",
        "test_labels = one_hot_labels[test_idx,:]"
      ]
    },
    {
      "cell_type": "code",
      "execution_count": 133,
      "metadata": {
        "colab": {
          "base_uri": "https://localhost:8080/",
          "height": 0
        },
        "id": "HT62Z2xxfqto",
        "outputId": "450f0e16-9871-46e2-da79-213210c8cdf6"
      },
      "outputs": [
        {
          "output_type": "stream",
          "name": "stdout",
          "text": [
            "dimension of train data: (12505, 42)\n",
            "dimension of train labels: (12505, 10)\n",
            "dimension of validation data: (4169, 42)\n",
            "dimension of validation labels: (4169, 10)\n",
            "dimension of test data: (4169, 42)\n",
            "dimension of test labels: (4169, 10)\n"
          ]
        }
      ],
      "source": [
        "#dataset experiments\n",
        "print('dimension of train data:',train_data.shape)\n",
        "print('dimension of train labels:',train_labels.shape)\n",
        "print('dimension of validation data:',valid_data.shape)\n",
        "print('dimension of validation labels:',valid_labels.shape)\n",
        "print('dimension of test data:',test_data.shape)\n",
        "print('dimension of test labels:',test_labels.shape)"
      ]
    },
    {
      "cell_type": "markdown",
      "metadata": {
        "id": "rStEOIKhb8Ye"
      },
      "source": [
        "# Feedforward functions\n"
      ]
    },
    {
      "cell_type": "code",
      "execution_count": 103,
      "metadata": {
        "id": "t2nbEEeGO84O"
      },
      "outputs": [],
      "source": [
        "def linear_layer(X,W,b):\n",
        "  z = np.dot(X,W) + b\n",
        "  return z\n",
        "\n",
        "def ReLU(x):\n",
        "  a = np.max(x,0)\n",
        "  return a\n",
        "\n",
        "def sigmoid(x):\n",
        "  a = 1/(1+np.exp(-x))\n",
        "  return a\n",
        "\n",
        "def softmax(x):\n",
        "  temp = np.sum(np.exp(x), axis=1)\n",
        "  temp = temp[...,np.newaxis] #i did this for removing the broadcasting error\n",
        "  a = np.exp(x) / temp #dar rastaye satr jam mikonad\n",
        "  return a"
      ]
    },
    {
      "cell_type": "code",
      "execution_count": 104,
      "metadata": {
        "id": "q_sUdABWSqh3"
      },
      "outputs": [],
      "source": [
        "def feedforward(X,parameters):\n",
        "\n",
        "  global neuron_values\n",
        "  neuron_values['linear'+str(0)] = X\n",
        "  neuron_values['activation'+str(0)] = X\n",
        "\n",
        "  for i in range(1,len(layers)):\n",
        "    A_previous = X\n",
        "\n",
        "    X = linear_layer(A_previous,parameters['w'+str(i)],parameters['b'+str(i)]) #dar khuruji har satr baraye yek data ast\n",
        "    neuron_values['linear'+str(i)] = X\n",
        "    \n",
        "\n",
        "    if (activations[i]=='sigmoid'):\n",
        "      X = sigmoid(X)\n",
        "      neuron_values['activation'+str(i)] = X\n",
        "\n",
        "    elif (activations[i]=='softmax'):\n",
        "      X = softmax(X)\n",
        "      neuron_values['activation'+str(i)] = X\n",
        "\n",
        "    else:\n",
        "      pass\n",
        "\n",
        "  return X"
      ]
    },
    {
      "cell_type": "markdown",
      "metadata": {
        "id": "qPnE5Uny6Rbh"
      },
      "source": [
        "# Computing cost"
      ]
    },
    {
      "cell_type": "code",
      "execution_count": 105,
      "metadata": {
        "id": "_18wbc6F9wQa"
      },
      "outputs": [],
      "source": [
        "def compute_cost(y,label): #you should change this function - mse is not a good choice!\n",
        "\n",
        "\n",
        "  m = y.shape[0]\n",
        "  loss = -1/m * (np.dot(label,np.log(y).T))\n",
        "\n",
        "  return loss\n"
      ]
    },
    {
      "cell_type": "markdown",
      "metadata": {
        "id": "5sDR8Zd46dcX"
      },
      "source": [
        "# Backward functions"
      ]
    },
    {
      "cell_type": "code",
      "execution_count": 106,
      "metadata": {
        "id": "UqWzvh4heQ-6"
      },
      "outputs": [],
      "source": [
        "def compute_derivative(activation_cache, activation):\n",
        "  z = activation_cache\n",
        "\n",
        "  if activation == 'softmax':\n",
        "    dz = z * (1-z)\n",
        "\n",
        "  elif activation == 'sigmoid':\n",
        "    dz = z * (1-z)\n",
        "    \n",
        "  elif activation == 'ReLU':\n",
        "    dz[z<0] = 0\n",
        "  \n",
        "  return dz"
      ]
    },
    {
      "cell_type": "code",
      "execution_count": 107,
      "metadata": {
        "id": "lgFMQfSSlZXQ"
      },
      "outputs": [],
      "source": [
        "def backward(loss):\n",
        "  \n",
        "  L = len(layers)-1 #number of layers\n",
        "  grads = {}\n",
        "  delta = {}\n",
        "  \n",
        "  for i in range(L,0,-1):\n",
        "    linear_cache = neuron_values['linear'+str(i)]\n",
        "    activation_cache = neuron_values['activation'+str(i)]\n",
        "\n",
        "    if i == L: #we are in the last layer\n",
        "      dz = compute_derivative(activation_cache,activations[i])\n",
        "      delta[i] = dz * loss\n",
        "      y = neuron_values['activation'+str(i-1)] #previous layer\n",
        "      grads['dw'+str(i)] = learning_rate * np.dot(y.T,delta[i])\n",
        "      grads['db'+str(i)] = learning_rate * np.dot(y.T,delta[i])\n",
        "\n",
        "    else: \n",
        "      dz = compute_derivative(activation_cache,activations[i])\n",
        "      delta[i] = dz * (np.dot(delta[i+1],parameters['w'+str(i+1)].T))\n",
        "      y = neuron_values['activation'+str(i-1)] #previous layer\n",
        "      grads['dw'+str(i)] = learning_rate * np.dot(y.T,delta[i])\n",
        "      grads['db'+str(i)] = learning_rate * np.dot(y.T,delta[i])\n",
        "\n",
        "  return grads"
      ]
    },
    {
      "cell_type": "markdown",
      "metadata": {
        "id": "GZK5lWm685xF"
      },
      "source": [
        "# Training"
      ]
    },
    {
      "cell_type": "code",
      "execution_count": 108,
      "metadata": {
        "id": "7ihyHa9CRJT1"
      },
      "outputs": [],
      "source": [
        "def initialize_parameters(layer_dims):\n",
        "  #each of the elements in layer_dims shows the number of neurons in it\n",
        "  parameters = {}\n",
        "  for l in range(1,len(layer_dims)):\n",
        "    parameters['w'+str(l)] = np.random.randn(layer_dims[l-1],layer_dims[l]) * 0.1\n",
        "    parameters['b'+str(l)] = np.zeros((1,layer_dims[l]))\n",
        "  return parameters"
      ]
    },
    {
      "cell_type": "code",
      "execution_count": 142,
      "metadata": {
        "id": "8ZD6izrfb_nM"
      },
      "outputs": [],
      "source": [
        "layers = [42,100,10]\n",
        "neuron_values = {}\n",
        "activations = ['None','sigmoid','softmax']\n",
        "epoch = 15\n",
        "learning_rate = 0.1\n",
        "parameters = initialize_parameters(layers)\n",
        "#print(parameters['w1'].shape)\n",
        "#print(parameters['w2'].shape)\n",
        "\n",
        "#w1 will have the shape of 42x200\n",
        "#w2 will have the shape of 200x10"
      ]
    },
    {
      "cell_type": "code",
      "execution_count": 143,
      "metadata": {
        "colab": {
          "base_uri": "https://localhost:8080/",
          "height": 0
        },
        "id": "q8RH5C3ap0Os",
        "outputId": "cd0bc1b5-1370-4136-a5f4-ae565b6fe1b7"
      },
      "outputs": [
        {
          "output_type": "stream",
          "name": "stdout",
          "text": [
            "**** end of epoch 0 ***\n",
            "**** end of epoch 1 ***\n",
            "**** end of epoch 2 ***\n",
            "**** end of epoch 3 ***\n",
            "**** end of epoch 4 ***\n",
            "**** end of epoch 5 ***\n",
            "**** end of epoch 6 ***\n",
            "**** end of epoch 7 ***\n",
            "**** end of epoch 8 ***\n",
            "**** end of epoch 9 ***\n",
            "**** end of epoch 10 ***\n",
            "**** end of epoch 11 ***\n",
            "**** end of epoch 12 ***\n",
            "**** end of epoch 13 ***\n",
            "**** end of epoch 14 ***\n",
            "total time: 25.169409036636353\n"
          ]
        }
      ],
      "source": [
        "import time\n",
        "\n",
        "train_loss_per_epoch = []\n",
        "valid_loss_per_epoch = []\n",
        "train_accuracy_per_epoch = []\n",
        "valid_accuracy_per_epoch = []\n",
        "\n",
        "tstart = time.time()\n",
        "for i in range(epoch):\n",
        "\n",
        "  train_losses = 0\n",
        "  valid_losses = 0\n",
        "  TP_train = 0\n",
        "  TP_valid = 0\n",
        "\n",
        "  #iterating over training dataset\n",
        "  for j in range(train_data.shape[0]): \n",
        "    sample = train_data[j,:] #shape=(42,)\n",
        "    label = train_labels[j,:]#shape (10,)\n",
        "\n",
        "    sample = sample[np.newaxis,...] #shape=(1,42)\n",
        "    label = label[np.newaxis,...] #shape=(10,1)\n",
        "\n",
        "    output = feedforward(sample,parameters)\n",
        "    loss = compute_cost(output,label)\n",
        "\n",
        "    error = label - output\n",
        "    grads = backward(error)\n",
        "    \n",
        "    #calculating number of true positives\n",
        "    label = np.argmax(label) \n",
        "    predicted = np.argmax(output)\n",
        "    if label==predicted:\n",
        "      TP_train += 1\n",
        "\n",
        "    #updating weight values\n",
        "    for k in range(1,len(layers)):\n",
        "     parameters['w'+str(k)] = parameters['w'+str(k)] + grads['dw'+str(k)]\n",
        "\n",
        "\n",
        "    loss = np.sum(loss)\n",
        "    train_losses += loss\n",
        "\n",
        "  #iterating over validation dataset\n",
        "  for j in range(valid_data.shape[0]): \n",
        "    sample = valid_data[j,:] #shape=(42,)\n",
        "    label = valid_labels[j,:] #shape (10,)\n",
        "\n",
        "    sample = sample[np.newaxis,...] #shape=(1,42)\n",
        "    label = label[np.newaxis,...] #shape=(10,1)\n",
        "\n",
        "    output = feedforward(sample,parameters)\n",
        "    loss = compute_cost(output,label)\n",
        "\n",
        "    #calculating number of true positives\n",
        "    label = np.argmax(label) \n",
        "    predicted = np.argmax(output)\n",
        "    if label==predicted:\n",
        "      TP_valid += 1\n",
        "\n",
        "    loss = np.sum(loss)\n",
        "    valid_losses += loss\n",
        "\n",
        "  train_loss_per_epoch.append(train_losses)\n",
        "  valid_loss_per_epoch.append(valid_losses)\n",
        "  train_accuracy_per_epoch.append(TP_train/train_data.shape[0])\n",
        "  valid_accuracy_per_epoch.append(TP_valid/valid_data.shape[0])\n",
        "  print('**** end of epoch',i,'***')\n",
        "tend = time.time()\n",
        "\n",
        "print('total time:',tend-tstart)"
      ]
    },
    {
      "cell_type": "markdown",
      "metadata": {
        "id": "_tgo0QsGGWVS"
      },
      "source": [
        "#Plots"
      ]
    },
    {
      "cell_type": "code",
      "execution_count": 145,
      "metadata": {
        "colab": {
          "base_uri": "https://localhost:8080/",
          "height": 370
        },
        "id": "wFNJlp6QNQNn",
        "outputId": "ab85f391-980a-4811-ba78-f6c7b2453cf1"
      },
      "outputs": [
        {
          "output_type": "stream",
          "name": "stdout",
          "text": [
            "train loss at last epoch: 916.988868037973\n",
            "validation loss at last epoch: 341.3174058646667\n"
          ]
        },
        {
          "output_type": "display_data",
          "data": {
            "image/png": "[encoded data removed]",
            "text/plain": [
              "<Figure size 720x360 with 2 Axes>"
            ]
          },
          "metadata": {
            "needs_background": "light"
          }
        }
      ],
      "source": [
        "import matplotlib.pyplot as plt\n",
        "%matplotlib inline\n",
        "\n",
        "plt.figure(figsize=(10,5))\n",
        "ax1 = plt.subplot(121)\n",
        "plt.title('train loss value over increasing epochs')\n",
        "plt.plot(train_loss_per_epoch)\n",
        "\n",
        "ax2 = plt.subplot(122)\n",
        "plt.title('validation loss value over increasing epochs')\n",
        "plt.plot(valid_loss_per_epoch)\n",
        "\n",
        "print('train loss at last epoch:',train_loss_per_epoch[-1])\n",
        "print('validation loss at last epoch:',valid_loss_per_epoch[-1])"
      ]
    },
    {
      "cell_type": "code",
      "execution_count": 146,
      "metadata": {
        "colab": {
          "base_uri": "https://localhost:8080/",
          "height": 370
        },
        "id": "M8zUgdoXvjL1",
        "outputId": "e4def268-cd75-4476-98f5-439609395916"
      },
      "outputs": [
        {
          "output_type": "stream",
          "name": "stdout",
          "text": [
            "train accuracy at last epoch: 0.9829668132746902\n",
            "validation accuracy at last epoch: 0.9796114176061406\n"
          ]
        },
        {
          "output_type": "display_data",
          "data": {
            "image/png": "[encoded data removed]",
            "text/plain": [
              "<Figure size 720x360 with 2 Axes>"
            ]
          },
          "metadata": {
            "needs_background": "light"
          }
        }
      ],
      "source": [
        "import matplotlib.pyplot as plt\n",
        "%matplotlib inline\n",
        "\n",
        "plt.figure(figsize=(10,5))\n",
        "ax1 = plt.subplot(121)\n",
        "plt.title('train accuracy value over increasing epochs')\n",
        "plt.plot(train_accuracy_per_epoch)\n",
        "\n",
        "ax2 = plt.subplot(122)\n",
        "plt.title('validation accuracy value over increasing epochs')\n",
        "plt.plot(valid_accuracy_per_epoch)\n",
        "\n",
        "print('train accuracy at last epoch:',train_accuracy_per_epoch[-1])\n",
        "print('validation accuracy at last epoch:',valid_accuracy_per_epoch[-1])"
      ]
    },
    {
      "cell_type": "code",
      "execution_count": null,
      "metadata": {
        "id": "I1ALpV1r_lQd"
      },
      "outputs": [],
      "source": [
        "plt.plot(valid_loss_per_epoch)"
      ]
    },
    {
      "cell_type": "markdown",
      "metadata": {
        "id": "N5dQTsc6FblZ"
      },
      "source": [
        "# Generating output"
      ]
    },
    {
      "cell_type": "code",
      "execution_count": null,
      "metadata": {
        "colab": {
          "base_uri": "https://localhost:8080/"
        },
        "id": "iOUpTbXNFeuL",
        "outputId": "37f168bf-78df-4a26-b0f9-b877e564db9e"
      },
      "outputs": [
        {
          "name": "stdout",
          "output_type": "stream",
          "text": [
            "desired outpur: J\n",
            "predicted outpur: J\n"
          ]
        }
      ],
      "source": [
        "number = 200\n",
        "sample = test_data[number]\n",
        "label = test_labels[number]\n",
        "classes = ['A','B','C','D','E','F','G','H','I','J']\n",
        "output = feedforward(sample,parameters)\n",
        "print('desired outpur:',classes[np.argmax(label)])\n",
        "print('predicted outpur:',classes[np.argmax(output)])"
      ]
    },
    {
      "cell_type": "markdown",
      "metadata": {
        "id": "0rQB41UFRLF5"
      },
      "source": [
        "# Results"
      ]
    },
    {
      "cell_type": "code",
      "execution_count": 147,
      "metadata": {
        "colab": {
          "base_uri": "https://localhost:8080/",
          "height": 0
        },
        "id": "Rt2tjz_UPR5W",
        "outputId": "6a5bdf68-375e-4bda-a018-ca2f2c6afc1e"
      },
      "outputs": [
        {
          "output_type": "stream",
          "name": "stdout",
          "text": [
            "test loss: [[411.40073098]]\n",
            "test accuracy: 0.9767330295034781\n",
            "test error: 0.023266970496521933\n"
          ]
        }
      ],
      "source": [
        "#confusion matirx\n",
        "confusion_matrix = np.zeros((10,10))\n",
        "loss = 0\n",
        "TP = 0\n",
        "\n",
        "for i in range(test_data.shape[0]):\n",
        "  sample = test_data[i,:] #shape=(42,)\n",
        "  label = test_labels[i,:] #shape (10,)\n",
        "\n",
        "  sample = sample[np.newaxis,...] #shape=(1,42)\n",
        "  label = label[np.newaxis,...] #shape=(10,1)\n",
        "\n",
        "  output = feedforward(sample,parameters)\n",
        "  loss += compute_cost(output,label)\n",
        "  \n",
        "  label = np.argmax(label)\n",
        "  predicted = np.argmax(output)\n",
        "  if label==predicted:\n",
        "    TP += 1\n",
        "\n",
        "  confusion_matrix[label][predicted] +=1\n",
        "\n",
        "\n",
        "print('test loss:',loss)\n",
        "print('test accuracy:',TP/test_data.shape[0])\n",
        "print('test error:', 1 - TP/test_data.shape[0])\n",
        "\n"
      ]
    },
    {
      "cell_type": "code",
      "execution_count": 149,
      "metadata": {
        "colab": {
          "base_uri": "https://localhost:8080/",
          "height": 0
        },
        "id": "DQc2ARcqF0_I",
        "outputId": "6863f506-4e7b-40e6-c430-bfc302e0924e"
      },
      "outputs": [
        {
          "output_type": "stream",
          "name": "stdout",
          "text": [
            "confusion matrix:\n",
            "the row indexes are output labels and column labels depict actual outputs\n",
            "[[392.   3.   1.   1.   0.   0.   3.   1.   1.   0.]\n",
            " [  1. 417.   5.   2.   0.   0.   0.   0.   0.   2.]\n",
            " [  0.   1. 350.   0.   0.   0.   0.   0.   0.   0.]\n",
            " [  3.   2.   1. 492.   2.   0.   0.   0.   0.   0.]\n",
            " [  0.   2.   0.   0. 374.   3.   0.   0.   1.   0.]\n",
            " [  0.   0.   1.   0.   5. 455.   0.   1.   1.   0.]\n",
            " [  4.   1.   0.   1.   0.   0. 455.   0.   0.   0.]\n",
            " [  0.   0.   0.   0.   0.   0.   0. 354.   0.   1.]\n",
            " [  1.   1.   0.   1.   1.   3.   0.   0. 382.   7.]\n",
            " [  3.   5.   0.   3.   0.   0.   1.   0.  21. 401.]]\n",
            "precision for each class: [0.97270471 0.97429907 0.99431818 0.98203593 0.9816273  0.98060345\n",
            " 0.98484848 0.99438202 0.96221662 0.92183908]\n",
            "recall for each class: [0.96790123 0.9630485  0.97493036 0.98203593 0.97650131 0.98484848\n",
            " 0.98913043 0.99159664 0.93857494 0.97330097]\n",
            "F1 score 0.9745370562941096\n"
          ]
        }
      ],
      "source": [
        "print('confusion matrix:')\n",
        "print('the row indexes are output labels and column labels depict actual outputs')\n",
        "print(confusion_matrix)\n",
        "\n",
        "row_sum = np.sum(confusion_matrix,axis=1)\n",
        "col_sum = np.sum(confusion_matrix,axis=0)\n",
        "tp = confusion_matrix.diagonal()\n",
        "\n",
        "print('precision for each class:',tp/(row_sum+1))\n",
        "print('recall for each class:',tp/(col_sum+1))\n",
        "\n",
        "precision = np.sum(tp/(row_sum+1)) / len(tp) #+1 ezafe shode ast ta az taghsim bar 0 jelogiri shavad\n",
        "recall = np.sum(tp/(col_sum+1)) / len(tp) #+1 ezafe shode ast ta az taghsim bar 0 jelogiri shavad\n",
        "F1 = (2*precision*recall) / (precision + recall)\n",
        "\n",
        "\n",
        "print('F1 score',F1)"
      ]
    },
    {
      "cell_type": "code",
      "source": [
        "np.save('weights.npy',parameters) #saving the model"
      ],
      "metadata": {
        "id": "nx2WDkOfESju"
      },
      "execution_count": 151,
      "outputs": []
    },
    {
      "cell_type": "code",
      "source": [
        "import pickle\n",
        "\n",
        "with open('parameters.pickle', 'wb') as handle:\n",
        "    pickle.dump(parameters, handle)"
      ],
      "metadata": {
        "id": "8Sga1SESHKCz"
      },
      "execution_count": 152,
      "outputs": []
    }
  ],
  "metadata": {
    "colab": {
      "name": "ASL.ipynb",
      "provenance": [],
      "collapsed_sections": []
    },
    "kernelspec": {
      "display_name": "Python 3",
      "name": "python3"
    },
    "language_info": {
      "name": "python"
    }
  },
  "nbformat": 4,
  "nbformat_minor": 0
}